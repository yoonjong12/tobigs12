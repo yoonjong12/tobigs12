{
 "cells": [
  {
   "cell_type": "code",
   "execution_count": 1,
   "metadata": {
    "colab": {
     "base_uri": "https://localhost:8080/",
     "height": 35
    },
    "colab_type": "code",
    "id": "WcKnZbsKTreI",
    "outputId": "c9949ada-96e7-492f-8ce5-c9c05bda1b4a"
   },
   "outputs": [
    {
     "name": "stdout",
     "output_type": "stream",
     "text": [
      "Using PyTorch version: 1.1.0  Device: cuda\n"
     ]
    }
   ],
   "source": [
    "from torch.utils.data import DataLoader\n",
    "from torchvision import datasets, transforms\n",
    "import torch.nn.functional as F\n",
    "import torch\n",
    "from torch import nn\n",
    "import pandas as pd\n",
    "import numpy as np\n",
    "from PIL import Image\n",
    "import matplotlib.pyplot as plt\n",
    "\n",
    "if torch.cuda.is_available():\n",
    "    device = torch.device('cuda')\n",
    "else:\n",
    "    device = torch.device('cpu')\n",
    "    \n",
    "print('Using PyTorch version:', torch.__version__, ' Device:', device)"
   ]
  },
  {
   "cell_type": "code",
   "execution_count": 0,
   "metadata": {
    "colab": {},
    "colab_type": "code",
    "id": "ojZb2J9bwzkc"
   },
   "outputs": [],
   "source": [
    "# Params\n",
    "learning_rate = 0.0001\n",
    "epoch_size = 30\n",
    "batch_size = 64"
   ]
  },
  {
   "cell_type": "code",
   "execution_count": 3,
   "metadata": {
    "colab": {
     "base_uri": "https://localhost:8080/",
     "height": 53
    },
    "colab_type": "code",
    "id": "XjM8oj59Vglq",
    "outputId": "305064ef-bd95-45bf-cd76-f49c1fd3c071"
   },
   "outputs": [
    {
     "name": "stdout",
     "output_type": "stream",
     "text": [
      "Files already downloaded and verified\n",
      "Files already downloaded and verified\n"
     ]
    }
   ],
   "source": [
    "import torchvision\n",
    "import torchvision.transforms as transforms\n",
    "import torchvision.models as models\n",
    "import torch.optim as optim\n",
    "\n",
    "batch_size = 64\n",
    "\n",
    "# CIFAR 10 데이터셋\n",
    "\n",
    "transform = transforms.Compose(\n",
    "    [transforms.ToTensor(),\n",
    "     transforms.Normalize((0.5, 0.5, 0.5), (0.5, 0.5, 0.5))])\n",
    "\n",
    "trainset = torchvision.datasets.CIFAR10(root='./data', train=True,\n",
    "                                        download=True, transform=transform)\n",
    "trainloader = torch.utils.data.DataLoader(trainset, batch_size=batch_size,\n",
    "                                          shuffle=True, num_workers=2)\n",
    "\n",
    "testset = torchvision.datasets.CIFAR10(root='./data', train=False,\n",
    "                                       download=True, transform=transform)\n",
    "testloader = torch.utils.data.DataLoader(testset, batch_size=batch_size,\n",
    "                                         shuffle=False, num_workers=2)"
   ]
  },
  {
   "cell_type": "code",
   "execution_count": 4,
   "metadata": {
    "colab": {
     "base_uri": "https://localhost:8080/",
     "height": 53
    },
    "colab_type": "code",
    "id": "es8ZeGKvZDwq",
    "outputId": "c51b5fce-6105-4c1e-9e7b-7c00f12156f2"
   },
   "outputs": [
    {
     "name": "stdout",
     "output_type": "stream",
     "text": [
      "['airplane', 'automobile', 'bird', 'cat', 'deer', 'dog', 'frog', 'horse', 'ship', 'truck']\n",
      "(50000, 32, 32, 3)\n"
     ]
    }
   ],
   "source": [
    "print(trainset.classes)\n",
    "class_num = len(trainset.classes)\n",
    "print(trainset.data.shape)"
   ]
  },
  {
   "cell_type": "code",
   "execution_count": 5,
   "metadata": {
    "colab": {
     "base_uri": "https://localhost:8080/",
     "height": 575
    },
    "colab_type": "code",
    "id": "8gh2faitzJLT",
    "outputId": "737b0711-181a-4957-8110-e64930a59be0"
   },
   "outputs": [
    {
     "name": "stdout",
     "output_type": "stream",
     "text": [
      "----------------------------------------------------------------\n",
      "        Layer (type)               Output Shape         Param #\n",
      "================================================================\n",
      "            Conv2d-1           [-1, 96, 55, 55]          34,944\n",
      "              ReLU-2           [-1, 96, 55, 55]               0\n",
      "         MaxPool2d-3           [-1, 96, 27, 27]               0\n",
      "            Conv2d-4          [-1, 256, 27, 27]         614,656\n",
      "              ReLU-5          [-1, 256, 27, 27]               0\n",
      "         MaxPool2d-6          [-1, 256, 13, 13]               0\n",
      "            Conv2d-7          [-1, 384, 13, 13]         885,120\n",
      "              ReLU-8          [-1, 384, 13, 13]               0\n",
      "            Conv2d-9          [-1, 256, 13, 13]         884,992\n",
      "             ReLU-10          [-1, 256, 13, 13]               0\n",
      "           Conv2d-11          [-1, 256, 13, 13]         590,080\n",
      "             ReLU-12          [-1, 256, 13, 13]               0\n",
      "        MaxPool2d-13            [-1, 256, 6, 6]               0\n",
      "           Linear-14                 [-1, 4096]      37,752,832\n",
      "             ReLU-15                 [-1, 4096]               0\n",
      "           Linear-16                 [-1, 4096]      16,781,312\n",
      "             ReLU-17                 [-1, 4096]               0\n",
      "           Linear-18                   [-1, 10]          40,970\n",
      "================================================================\n",
      "Total params: 57,584,906\n",
      "Trainable params: 57,584,906\n",
      "Non-trainable params: 0\n",
      "----------------------------------------------------------------\n",
      "Input size (MB): 0.59\n",
      "Forward/backward pass size (MB): 10.65\n",
      "Params size (MB): 219.67\n",
      "Estimated Total Size (MB): 230.91\n",
      "----------------------------------------------------------------\n"
     ]
    }
   ],
   "source": [
    "from torchsummary import summary\n",
    "\n",
    "class CNN(nn.Module):\n",
    "    def __init__(self, num_classes):\n",
    "        super(CNN, self).__init__()        \n",
    "        # CNN계층들과 Linear 계층을 나누는 것은 중간에서 데이터 shpae을 바꿔주기 위함 \n",
    "        self.features = nn.Sequential(\n",
    "            # L1 (C1)\n",
    "            # input = 227*227*3 \n",
    "            # F = 96\n",
    "            # F_size = 11*11*3\n",
    "            # S = 4\n",
    "            # O = 27*27*96\n",
    "            nn.Conv2d(3, 96, kernel_size=11, stride=4),\n",
    "            nn.ReLU(inplace=True),\n",
    "            \n",
    "            # L2 (M1)\n",
    "            # input = 55*55*96\n",
    "            # P = 3*3\n",
    "            # S = 2\n",
    "            # O = 27*27*96\n",
    "            nn.MaxPool2d(kernel_size=3, stride=2),\n",
    "            \n",
    "            \n",
    "            # L3 (C2)\n",
    "            # input = 27*27*96\n",
    "            # F = 256\n",
    "            # F_size = 5*5*96\n",
    "            # S = 1\n",
    "            # p = 2\n",
    "            # O = 27*27*256            \n",
    "            nn.Conv2d(96, 256, kernel_size=5, padding=2, stride=1),\n",
    "            nn.ReLU(inplace=True),\n",
    "            \n",
    "            # L4 (M2)\n",
    "            # input = 27*27*256\n",
    "            # P = 3*3\n",
    "            # S = 2\n",
    "            # O = 13*13*256\n",
    "            nn.MaxPool2d(kernel_size=3, stride=2),\n",
    "            \n",
    "            # L5 (C3)\n",
    "            # input = 13*13*256\n",
    "            # F = 384\n",
    "            # F_size = 3*3*256\n",
    "            # S = 1\n",
    "            # p = 1\n",
    "            # O = 13*13*384            \n",
    "            nn.Conv2d(256, 384, kernel_size=3, padding=1),\n",
    "            nn.ReLU(inplace=True),\n",
    "            \n",
    "            # L6 (C4)\n",
    "            # input = 13*13*384\n",
    "            # F = 384\n",
    "            # F_size = 3*3*384\n",
    "            # S = 1\n",
    "            # p = 1\n",
    "            # O = 13*13*384            \n",
    "            nn.Conv2d(384, 256, kernel_size=3, padding=1),\n",
    "            nn.ReLU(inplace=True),\n",
    "            \n",
    "            # L7 (C5)\n",
    "            # input = 13*13*384\n",
    "            # F = 256\n",
    "            # F_size = 3*3*384\n",
    "            # S = 1\n",
    "            # p = 1\n",
    "            # O = 13*13*256            \n",
    "            nn.Conv2d(256, 256, kernel_size=3, padding=1),\n",
    "            nn.ReLU(inplace=True),\n",
    "            \n",
    "            # L8 (M3)\n",
    "            # input = 13*13*256\n",
    "            # P = 3*3\n",
    "            # S = 2\n",
    "            # O = 6*6*256          \n",
    "            nn.MaxPool2d(kernel_size=3, stride=2),\n",
    "        )\n",
    "        \n",
    "        self.classifier = nn.Sequential(\n",
    "            # L9 (fc1)\n",
    "            # input = 6*6*256\n",
    "            # flatten 9216\n",
    "            # O = (N,4096)\n",
    "            # N = batch size\n",
    "            nn.Linear(256*6*6, 4096),\n",
    "            nn.ReLU(inplace=True),\n",
    "            \n",
    "            # L10 (fc2)\n",
    "            # input = (N, 4096)\n",
    "            # O = (N, 4096)\n",
    "            # N = input data size\n",
    "            nn.Linear(4096, 4096),\n",
    "            nn.ReLU(inplace=True),\n",
    "            \n",
    "            # L11 (fc3)\n",
    "            # input = (N, 4096)\n",
    "            # O = (N, class number)            \n",
    "            nn.Linear(4096, num_classes),\n",
    "        )\n",
    "\n",
    "    def forward(self, x):\n",
    "        x = self.features(x)\n",
    "        # 데이터를 9216열로 쭉 늘리자\n",
    "        x = x.view(x.size(0), 256*6*6)\n",
    "        x = self.classifier(x)\n",
    "        return x\n",
    "    \n",
    "    \n",
    "model = CNN(10).to(device)\n",
    "summary(model, (3, 227, 227))\n",
    "\n",
    "# 각 레이어 별로 친절하게 Filter, H, W 을 표시하고 파라미터 개수까지 보여주고 있습니다."
   ]
  },
  {
   "cell_type": "code",
   "execution_count": 18,
   "metadata": {
    "colab": {
     "base_uri": "https://localhost:8080/",
     "height": 611
    },
    "colab_type": "code",
    "id": "rR0ls0AVTVaD",
    "outputId": "a5551253-1eb1-4ce0-c5dc-b747094923cb"
   },
   "outputs": [
    {
     "name": "stdout",
     "output_type": "stream",
     "text": [
      "----------------------------------------------------------------\n",
      "        Layer (type)               Output Shape         Param #\n",
      "================================================================\n",
      "            Conv2d-1           [-1, 96, 16, 16]           2,688\n",
      "              ReLU-2           [-1, 96, 16, 16]               0\n",
      "         MaxPool2d-3             [-1, 96, 8, 8]               0\n",
      "            Conv2d-4            [-1, 256, 8, 8]         221,440\n",
      "              ReLU-5            [-1, 256, 8, 8]               0\n",
      "         MaxPool2d-6            [-1, 256, 4, 4]               0\n",
      "            Conv2d-7            [-1, 384, 4, 4]         885,120\n",
      "              ReLU-8            [-1, 384, 4, 4]               0\n",
      "            Conv2d-9            [-1, 256, 4, 4]         884,992\n",
      "             ReLU-10            [-1, 256, 4, 4]               0\n",
      "           Conv2d-11            [-1, 256, 4, 4]         590,080\n",
      "             ReLU-12            [-1, 256, 4, 4]               0\n",
      "        MaxPool2d-13            [-1, 256, 2, 2]               0\n",
      "           Linear-14                 [-1, 4096]       4,198,400\n",
      "      BatchNorm1d-15                 [-1, 4096]           8,192\n",
      "             ReLU-16                 [-1, 4096]               0\n",
      "           Linear-17                 [-1, 4096]      16,781,312\n",
      "      BatchNorm1d-18                 [-1, 4096]           8,192\n",
      "             ReLU-19                 [-1, 4096]               0\n",
      "           Linear-20                   [-1, 10]          40,970\n",
      "================================================================\n",
      "Total params: 23,621,386\n",
      "Trainable params: 23,621,386\n",
      "Non-trainable params: 0\n",
      "----------------------------------------------------------------\n",
      "Input size (MB): 0.01\n",
      "Forward/backward pass size (MB): 1.12\n",
      "Params size (MB): 90.11\n",
      "Estimated Total Size (MB): 91.24\n",
      "----------------------------------------------------------------\n"
     ]
    }
   ],
   "source": [
    "# CIFAR 커스텀\n",
    "# ref: https://github.com/icpm/pytorch-cifar10\n",
    "class CNN_CIFAR(nn.Module):\n",
    "    def __init__(self):\n",
    "        super(CNN_CIFAR, self).__init__()\n",
    "        self.features = nn.Sequential(\n",
    "            # 정수가 안나오면 shape을 내림으로 처리해주고 있다. \n",
    "            nn.Conv2d(3, 96, kernel_size=3, stride=2, padding=1), # Output = 16.5\n",
    "            nn.ReLU(inplace=True),\n",
    "            nn.MaxPool2d(kernel_size=2), # stride는 따로 지정안하면 default가 커널 사이즈\n",
    "            nn.Conv2d(96, 256, kernel_size=3, padding=1),\n",
    "            nn.ReLU(inplace=True),\n",
    "            nn.MaxPool2d(kernel_size=2),\n",
    "            nn.Conv2d(256, 384, kernel_size=3, padding=1),\n",
    "            nn.ReLU(inplace=True),\n",
    "            nn.Conv2d(384, 256, kernel_size=3, padding=1),\n",
    "            nn.ReLU(inplace=True),\n",
    "            nn.Conv2d(256, 256, kernel_size=3, padding=1),\n",
    "            nn.ReLU(inplace=True),\n",
    "            nn.MaxPool2d(kernel_size=2),\n",
    "        )\n",
    "        self.classifier = nn.Sequential(\n",
    "            nn.Linear(256*2*2, 4096),\n",
    "            nn.BatchNorm1d(4096),\n",
    "            nn.ReLU(inplace=True),\n",
    "            nn.Linear(4096, 4096),\n",
    "            nn.BatchNorm1d(4096),\n",
    "            nn.ReLU(inplace=True),\n",
    "            nn.Linear(4096, 10),\n",
    "        )\n",
    "\n",
    "    def forward(self, x):\n",
    "        x = self.features(x)\n",
    "        x = x.view(x.size(0), 256*2*2)\n",
    "        x = self.classifier(x)\n",
    "        return x\n",
    "    \n",
    "model = CNN_CIFAR().to(device)\n",
    "summary(model, (3, 32, 32))"
   ]
  },
  {
   "cell_type": "code",
   "execution_count": 0,
   "metadata": {
    "colab": {},
    "colab_type": "code",
    "id": "cOZsrZDfY5ff"
   },
   "outputs": [],
   "source": [
    "net = CNN_CIFAR().to(device)\n",
    "criterion = nn.CrossEntropyLoss().to(device)\n",
    "optimizer = optim.Adam(net.parameters(), lr=learning_rate)"
   ]
  },
  {
   "cell_type": "code",
   "execution_count": 24,
   "metadata": {
    "colab": {
     "base_uri": "https://localhost:8080/",
     "height": 71
    },
    "colab_type": "code",
    "id": "GjYKHCdPw-aV",
    "outputId": "77de8aa3-ecfb-4fde-cc04-11c62e2fbbee"
   },
   "outputs": [
    {
     "name": "stdout",
     "output_type": "stream",
     "text": [
      "epoch: 0 loss: 21.776 acc: 51.170 \n",
      "epoch: 10 loss: 17.987 acc: 72.200 \n",
      "epoch: 20 loss: 22.984 acc: 72.530 \n"
     ]
    }
   ],
   "source": [
    "history = {'val_acc': [],'val_loss': []} \n",
    "\n",
    "\n",
    "for epoch in range(epoch_size):\n",
    "    net.train()\n",
    "    running_loss = 0.0\n",
    "    for i, data in enumerate(trainloader, 0):\n",
    "        inputs, labels = data\n",
    "        inputs, labels = inputs.to(device), labels.to(device)\n",
    "        optimizer.zero_grad()\n",
    "        outputs = net(inputs)\n",
    "        loss = criterion(outputs, labels)\n",
    "        loss.backward()\n",
    "        optimizer.step()\n",
    "\n",
    "    total = 0\n",
    "    correct = 0\n",
    "    val_loss = 0\n",
    "    net.eval()\n",
    "    with torch.no_grad():\n",
    "        for data in testloader:\n",
    "            images, labels = data\n",
    "            images, labels = images.to(device), labels.to(device)\n",
    "            outputs = net(images)\n",
    "            loss = criterion(outputs, labels)\n",
    "            _, predicted = torch.max(outputs, 1)\n",
    "            correct += (predicted == labels).sum().item()\n",
    "            total += labels.size(0)\n",
    "            val_loss += loss.item()\n",
    "        acc = 100*correct/total\n",
    "        history[\"val_acc\"].append(acc)\n",
    "        history[\"val_loss\"].append(val_loss / 10)\n",
    "\n",
    "    if epoch % 10 == 0:\n",
    "        print('epoch: %d loss: %.3f acc: %.3f ' %\n",
    "              (epoch, val_loss / 10, acc))\n",
    "        val_loss = 0.0"
   ]
  },
  {
   "cell_type": "code",
   "execution_count": 25,
   "metadata": {
    "colab": {
     "base_uri": "https://localhost:8080/",
     "height": 283
    },
    "colab_type": "code",
    "id": "UWO29Egnb_9U",
    "outputId": "f8dd871b-5a3d-4f59-9f8d-b0b2d74d9ba7"
   },
   "outputs": [
    {
     "data": {
      "image/png": "[encoded data removed]",
      "text/plain": [
       "<Figure size 432x288 with 2 Axes>"
      ]
     },
     "metadata": {
      "tags": []
     },
     "output_type": "display_data"
    }
   ],
   "source": [
    "fig = plt.figure()\n",
    "ax_acc = fig.add_subplot(111)\n",
    "\n",
    "ax_acc.plot(range(epoch_size), history['val_acc'], label='정확도(%)', color='darkred')\n",
    "#plt.text(3, 14.7, \"<----------------정확도(%)\", verticalalignment='top', horizontalalignment='right')\n",
    "plt.xlabel('epochs')\n",
    "plt.ylabel('Validation Accuracy(%)')\n",
    "ax_acc.grid(linestyle='--', color='lavender')\n",
    "ax_loss = ax_acc.twinx()\n",
    "ax_loss.plot(range(epoch_size), history['val_loss'], label='오차', color='darkblue')\n",
    "#plt.text(3, 2.2, \"<----------------오차\", verticalalignment='top', horizontalalignment='left')\n",
    "plt.ylabel('Validation Error')\n",
    "ax_loss.yaxis.tick_right()\n",
    "ax_loss.grid(linestyle='--', color='lavender')\n",
    "\n",
    "# 그래프 표시\n",
    "plt.show()"
   ]
  },
  {
   "attachments": {
    "cifar1.png": {
     "image/png": "[encoded data removed]"
    }
   },
   "cell_type": "markdown",
   "metadata": {
    "colab_type": "text",
    "id": "0DfAd86JtUym"
   },
   "source": [
    "![cifar1.png](attachment:cifar1.png)\n",
    "* 기존 NN과제에서 Batch Normalization으로 60까지 찍었는데, 이 모델은 75언저리까지 찍고있습니다.\n",
    "* epoch이 진행될 수록 과적합이 심해지고 있는데, 모델을 손봐야할지 파라미터를 조정해야할지 고민이 됩니다..."
   ]
  }
 ],
 "metadata": {
  "accelerator": "GPU",
  "colab": {
   "collapsed_sections": [],
   "name": "week8_CNN_신윤종.ipynb",
   "provenance": [],
   "version": "0.3.2"
  },
  "kernelspec": {
   "display_name": "Python 3",
   "language": "python",
   "name": "python3"
  },
  "language_info": {
   "codemirror_mode": {
    "name": "ipython",
    "version": 3
   },
   "file_extension": ".py",
   "mimetype": "text/x-python",
   "name": "python",
   "nbconvert_exporter": "python",
   "pygments_lexer": "ipython3",
   "version": "3.7.3"
  }
 },
 "nbformat": 4,
 "nbformat_minor": 1
}
