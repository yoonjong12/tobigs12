{
 "cells": [
  {
   "cell_type": "code",
   "execution_count": 1,
   "metadata": {
    "colab": {
     "base_uri": "https://localhost:8080/",
     "height": 35
    },
    "colab_type": "code",
    "id": "I5ILq30KHaZq",
    "outputId": "eaf45abf-c50d-4cb0-8e1d-e0b2f88a648e"
   },
   "outputs": [
    {
     "name": "stdout",
     "output_type": "stream",
     "text": [
      "Using PyTorch version: 1.2.0  Device: cpu\n"
     ]
    }
   ],
   "source": [
    "import torch\n",
    "import numpy as np\n",
    "import torch.nn as nn\n",
    "import torch.nn.functional as F\n",
    "if torch.cuda.is_available():\n",
    "    device = torch.device('cuda:0')\n",
    "else:\n",
    "    device = torch.device('cpu')\n",
    "    \n",
    "print('Using PyTorch version:', torch.__version__, ' Device:', device)"
   ]
  },
  {
   "cell_type": "code",
   "execution_count": 2,
   "metadata": {
    "colab": {},
    "colab_type": "code",
    "id": "qmVfOfOruc7b"
   },
   "outputs": [],
   "source": [
    "input_size = 32 * 32 * 3\n",
    "hidden_size = 128\n",
    "output_size = 10\n",
    "epoch_size = 50\n",
    "batch_size = 32\n",
    "learning_rate = 0.0001"
   ]
  },
  {
   "cell_type": "code",
   "execution_count": 3,
   "metadata": {
    "colab": {
     "base_uri": "https://localhost:8080/",
     "height": 53
    },
    "colab_type": "code",
    "id": "dLo5CDT8fp-v",
    "outputId": "a996099e-748f-4a55-fef5-76ca10bfb749"
   },
   "outputs": [
    {
     "name": "stdout",
     "output_type": "stream",
     "text": [
      "Downloading https://www.cs.toronto.edu/~kriz/cifar-10-python.tar.gz to ./data\\cifar-10-python.tar.gz\n"
     ]
    },
    {
     "name": "stderr",
     "output_type": "stream",
     "text": [
      "100%|███████████████████████████████████████████████████████████████▉| 170434560/170498071 [07:35<00:00, 250838.69it/s]"
     ]
    },
    {
     "name": "stdout",
     "output_type": "stream",
     "text": [
      "Extracting ./data\\cifar-10-python.tar.gz to ./data\n",
      "Files already downloaded and verified\n"
     ]
    },
    {
     "name": "stderr",
     "output_type": "stream",
     "text": [
      "\r",
      "170500096it [07:50, 250838.69it/s]                                                                                     "
     ]
    }
   ],
   "source": [
    "import torchvision\n",
    "import torchvision.transforms as transforms\n",
    "import torchvision.models as models\n",
    "import torch.optim as optim\n",
    "\n",
    "# CIFAR 10 dataload\n",
    "# torchvision에서 여러 데이터를 제공한다. 만약 여기에 없으면 어쩔 수 없이 전처리를 다 해줘야 한다...\n",
    "\n",
    "transform = transforms.Compose(\n",
    "    [transforms.ToTensor(),\n",
    "     transforms.Normalize((0.5, 0.5, 0.5), (0.5, 0.5, 0.5))])\n",
    "\n",
    "trainset = torchvision.datasets.CIFAR10(root='./data', train=True,\n",
    "                                        download=True, transform=transform)\n",
    "trainloader = torch.utils.data.DataLoader(trainset, batch_size=batch_size,\n",
    "                                          shuffle=True, num_workers=2)\n",
    "\n",
    "testset = torchvision.datasets.CIFAR10(root='./data', train=False,\n",
    "                                       download=True, transform=transform)\n",
    "testloader = torch.utils.data.DataLoader(testset, batch_size=batch_size,\n",
    "                                         shuffle=False, num_workers=2)"
   ]
  },
  {
   "cell_type": "code",
   "execution_count": 10,
   "metadata": {},
   "outputs": [
    {
     "data": {
      "text/plain": [
       "[tensor([[[[-0.3961, -0.4510, -0.4902,  ..., -0.2471, -0.3647, -0.5294],\n",
       "           [-0.5059, -0.5137, -0.5059,  ..., -0.2235, -0.3647, -0.4980],\n",
       "           [-0.5216, -0.5059, -0.4510,  ..., -0.3961, -0.4667, -0.4980],\n",
       "           ...,\n",
       "           [-0.2784, -0.2627, -0.2784,  ..., -0.3725, -0.4667, -0.5294],\n",
       "           [-0.1922, -0.2863, -0.3412,  ..., -0.3961, -0.3882, -0.4745],\n",
       "           [ 0.3333,  0.0824, -0.1294,  ..., -0.3882, -0.3333, -0.3176]],\n",
       " \n",
       "          [[-0.3255, -0.3725, -0.4118,  ..., -0.2471, -0.4353, -0.6078],\n",
       "           [-0.4196, -0.4196, -0.4118,  ..., -0.2157, -0.4118, -0.5529],\n",
       "           [-0.4510, -0.4353, -0.3882,  ..., -0.4275, -0.5373, -0.5686],\n",
       "           ...,\n",
       "           [-0.2235, -0.2157, -0.2235,  ..., -0.5451, -0.6471, -0.7098],\n",
       "           [-0.1608, -0.2549, -0.3098,  ..., -0.5765, -0.5686, -0.6471],\n",
       "           [ 0.3569,  0.1059, -0.1059,  ..., -0.5686, -0.5137, -0.4902]],\n",
       " \n",
       "          [[-0.1765, -0.2314, -0.2706,  ..., -0.3490, -0.3804, -0.5137],\n",
       "           [-0.2392, -0.2392, -0.2314,  ..., -0.2941, -0.3882, -0.4902],\n",
       "           [-0.2627, -0.2471, -0.2000,  ..., -0.4039, -0.4824, -0.4980],\n",
       "           ...,\n",
       "           [-0.0902, -0.0824, -0.0902,  ..., -0.4510, -0.5373, -0.5843],\n",
       "           [-0.0353, -0.1294, -0.1922,  ..., -0.4510, -0.4431, -0.5294],\n",
       "           [ 0.4745,  0.2157,  0.0039,  ..., -0.4275, -0.3882, -0.3882]]],\n",
       " \n",
       " \n",
       "         [[[ 0.0667,  0.0510,  0.1059,  ...,  0.0588,  0.1373,  0.1059],\n",
       "           [-0.1137, -0.1686, -0.0510,  ..., -0.1451, -0.1686,  0.0118],\n",
       "           [-0.4353, -0.3176, -0.2392,  ..., -0.0196,  0.0510, -0.0431],\n",
       "           ...,\n",
       "           [ 0.1137,  0.1922,  0.1216,  ..., -0.0353, -0.2471, -0.2471],\n",
       "           [ 0.2157,  0.0902,  0.1373,  ..., -0.1765, -0.4275, -0.3098],\n",
       "           [ 0.1529,  0.0745,  0.0431,  ..., -0.2471, -0.3569, -0.2314]],\n",
       " \n",
       "          [[ 0.1686,  0.1608,  0.2157,  ...,  0.1608,  0.2549,  0.2706],\n",
       "           [-0.1137, -0.1608, -0.0353,  ..., -0.0039, -0.0118,  0.2078],\n",
       "           [-0.3569, -0.2392, -0.1529,  ...,  0.1373,  0.2157,  0.1294],\n",
       "           ...,\n",
       "           [ 0.2784,  0.3412,  0.2706,  ...,  0.1765, -0.0353, -0.0745],\n",
       "           [ 0.3569,  0.2235,  0.2784,  ...,  0.0196, -0.2627, -0.2000],\n",
       "           [ 0.3020,  0.2078,  0.1765,  ..., -0.0667, -0.2157, -0.1373]],\n",
       " \n",
       "          [[-0.3098, -0.3490, -0.3176,  ..., -0.2392, -0.1608, -0.1765],\n",
       "           [-0.3882, -0.4667, -0.3804,  ..., -0.2784, -0.3333, -0.2000],\n",
       "           [-0.5373, -0.4588, -0.4039,  ...,  0.0118,  0.0353, -0.1294],\n",
       "           ...,\n",
       "           [-0.1216, -0.0039, -0.1216,  ..., -0.4824, -0.7412, -0.6706],\n",
       "           [-0.0431, -0.1216, -0.1137,  ..., -0.6235, -0.8196, -0.6157],\n",
       "           [-0.1608, -0.1451, -0.1529,  ..., -0.6314, -0.6784, -0.4824]]],\n",
       " \n",
       " \n",
       "         [[[-0.5137, -0.5059, -0.4824,  ..., -0.2627, -0.3333, -0.3490],\n",
       "           [-0.4980, -0.4902, -0.4588,  ..., -0.3176, -0.3412, -0.3020],\n",
       "           [-0.4588, -0.4275, -0.3569,  ..., -0.2627, -0.3020, -0.2549],\n",
       "           ...,\n",
       "           [-0.4667, -0.3412, -0.1529,  ..., -0.1294, -0.1373, -0.0196],\n",
       "           [-0.2627, -0.2784, -0.2627,  ..., -0.1451, -0.1843, -0.1765],\n",
       "           [-0.3020, -0.4431, -0.4353,  ..., -0.1451, -0.0667, -0.0980]],\n",
       " \n",
       "          [[-0.6235, -0.6157, -0.5922,  ..., -0.4667, -0.5529, -0.5216],\n",
       "           [-0.6235, -0.6157, -0.5922,  ..., -0.5216, -0.5686, -0.5059],\n",
       "           [-0.6078, -0.5765, -0.5059,  ..., -0.4275, -0.4980, -0.4431],\n",
       "           ...,\n",
       "           [-0.5608, -0.4667, -0.2941,  ..., -0.3020, -0.2863, -0.1451],\n",
       "           [-0.3412, -0.3804, -0.3882,  ..., -0.3098, -0.3176, -0.2784],\n",
       "           [-0.3725, -0.5294, -0.5529,  ..., -0.3098, -0.2000, -0.1922]],\n",
       " \n",
       "          [[-0.6706, -0.6627, -0.6392,  ..., -0.4745, -0.5529, -0.5373],\n",
       "           [-0.6627, -0.6549, -0.6235,  ..., -0.5294, -0.5686, -0.5137],\n",
       "           [-0.6392, -0.6078, -0.5294,  ..., -0.4745, -0.5216, -0.4745],\n",
       "           ...,\n",
       "           [-0.6078, -0.5216, -0.3333,  ..., -0.2863, -0.2784, -0.1451],\n",
       "           [-0.3804, -0.4275, -0.4431,  ..., -0.3176, -0.3176, -0.2784],\n",
       "           [-0.3961, -0.5608, -0.6000,  ..., -0.3176, -0.2000, -0.1922]]],\n",
       " \n",
       " \n",
       "         ...,\n",
       " \n",
       " \n",
       "         [[[ 0.0431,  0.0431,  0.4275,  ..., -0.0745, -0.1059, -0.0275],\n",
       "           [-0.0039,  0.0039,  0.1686,  ...,  0.0118, -0.0667, -0.0745],\n",
       "           [ 0.1216,  0.0118,  0.0353,  ..., -0.0118,  0.0353, -0.0353],\n",
       "           ...,\n",
       "           [-0.0118, -0.0431, -0.0667,  ..., -0.3412, -0.2863,  0.0353],\n",
       "           [ 0.0510, -0.0353, -0.0118,  ..., -0.0745, -0.0118,  0.0275],\n",
       "           [ 0.0824, -0.1451, -0.2706,  ...,  0.2549,  0.1922,  0.2627]],\n",
       " \n",
       "          [[ 0.3020,  0.2706,  0.5765,  ...,  0.1686,  0.1686,  0.2392],\n",
       "           [ 0.2706,  0.2706,  0.3725,  ...,  0.2941,  0.2314,  0.2157],\n",
       "           [ 0.3333,  0.2471,  0.2471,  ...,  0.2706,  0.3176,  0.2392],\n",
       "           ...,\n",
       "           [ 0.1765,  0.1451, -0.0510,  ..., -0.3490, -0.2941,  0.0039],\n",
       "           [ 0.2078,  0.0745, -0.0588,  ..., -0.0745, -0.0118, -0.0118],\n",
       "           [ 0.2314, -0.0039, -0.2392,  ...,  0.2627,  0.2235,  0.2706]],\n",
       " \n",
       "          [[-0.2078, -0.2706,  0.2941,  ..., -0.3804, -0.3961, -0.3333],\n",
       "           [-0.3333, -0.4196, -0.1373,  ..., -0.2549, -0.3569, -0.3647],\n",
       "           [-0.0824, -0.3176, -0.2941,  ..., -0.2784, -0.2471, -0.2941],\n",
       "           ...,\n",
       "           [-0.5137, -0.6000, -0.5608,  ..., -0.7255, -0.6627, -0.4039],\n",
       "           [-0.3647, -0.5373, -0.4824,  ..., -0.4588, -0.3647, -0.3098],\n",
       "           [-0.3020, -0.5451, -0.6157,  ...,  0.1059,  0.1137,  0.1686]]],\n",
       " \n",
       " \n",
       "         [[[ 0.8431,  0.4039, -0.2549,  ...,  0.8902,  0.9373,  0.9608],\n",
       "           [ 0.8667,  0.5059, -0.1608,  ...,  0.3882,  0.8196,  0.9373],\n",
       "           [ 0.8745,  0.7961,  0.3725,  ..., -0.1608,  0.6314,  0.9451],\n",
       "           ...,\n",
       "           [ 0.7569,  0.8745,  0.8980,  ...,  0.9529,  0.9843,  0.9843],\n",
       "           [ 0.8745,  0.9137,  0.9059,  ...,  0.9451,  0.9686,  0.9608],\n",
       "           [ 0.9059,  0.9059,  0.9059,  ...,  0.9294,  0.9451,  0.9294]],\n",
       " \n",
       "          [[ 0.8667,  0.4824, -0.1137,  ...,  0.9294,  0.9373,  0.9608],\n",
       "           [ 0.8824,  0.5608, -0.0510,  ...,  0.4824,  0.8667,  0.9529],\n",
       "           [ 0.8980,  0.8275,  0.4431,  ..., -0.0353,  0.7020,  0.9843],\n",
       "           ...,\n",
       "           [ 0.5608,  0.6235,  0.6471,  ...,  0.7020,  0.7255,  0.7412],\n",
       "           [ 0.6706,  0.6627,  0.6471,  ...,  0.7255,  0.7412,  0.7333],\n",
       "           [ 0.7020,  0.6549,  0.6392,  ...,  0.7333,  0.7412,  0.7255]],\n",
       " \n",
       "          [[ 0.8510,  0.3882, -0.2784,  ...,  0.8431,  0.9216,  0.9608],\n",
       "           [ 0.8510,  0.4980, -0.1608,  ...,  0.2627,  0.7647,  0.9216],\n",
       "           [ 0.8431,  0.7804,  0.3725,  ..., -0.3020,  0.5686,  0.9373],\n",
       "           ...,\n",
       "           [ 0.1373,  0.1765,  0.1843,  ...,  0.3647,  0.4118,  0.4353],\n",
       "           [ 0.2941,  0.2863,  0.2549,  ...,  0.4275,  0.4588,  0.4588],\n",
       "           [ 0.3647,  0.3412,  0.3176,  ...,  0.4745,  0.4902,  0.4667]]],\n",
       " \n",
       " \n",
       "         [[[ 0.7961,  0.7412,  0.6314,  ...,  0.3255,  0.3255,  0.3882],\n",
       "           [ 0.6627,  0.5843,  0.4667,  ...,  0.2627,  0.2471,  0.3255],\n",
       "           [ 0.4980,  0.4275,  0.3490,  ...,  0.2157,  0.1843,  0.2392],\n",
       "           ...,\n",
       "           [-0.3333, -0.3176, -0.3098,  ...,  0.2941,  0.3255,  0.3176],\n",
       "           [-0.4510, -0.4118, -0.3804,  ...,  0.3020,  0.3255,  0.3098],\n",
       "           [-0.4745, -0.4275, -0.4039,  ...,  0.3176,  0.3020,  0.2706]],\n",
       " \n",
       "          [[ 0.7098,  0.6627,  0.5686,  ...,  0.2314,  0.2549,  0.3176],\n",
       "           [ 0.5922,  0.5529,  0.4667,  ...,  0.1686,  0.1765,  0.2549],\n",
       "           [ 0.4353,  0.4275,  0.3882,  ...,  0.1294,  0.1216,  0.1843],\n",
       "           ...,\n",
       "           [-0.3098, -0.2941, -0.2941,  ...,  0.1843,  0.2157,  0.2000],\n",
       "           [-0.4275, -0.3882, -0.3647,  ...,  0.1922,  0.2157,  0.2000],\n",
       "           [-0.4510, -0.4039, -0.3882,  ...,  0.2078,  0.1922,  0.1529]],\n",
       " \n",
       "          [[ 0.4902,  0.4431,  0.3412,  ...,  0.0196,  0.0275,  0.0902],\n",
       "           [ 0.3647,  0.3098,  0.2157,  ..., -0.0510, -0.0510,  0.0275],\n",
       "           [ 0.2078,  0.1765,  0.1294,  ..., -0.0902, -0.0980, -0.0431],\n",
       "           ...,\n",
       "           [-0.4431, -0.4275, -0.4353,  ..., -0.0196,  0.0196,  0.0196],\n",
       "           [-0.5765, -0.5373, -0.5137,  ..., -0.0196,  0.0039,  0.0039],\n",
       "           [-0.6000, -0.5529, -0.5373,  ...,  0.0039, -0.0039, -0.0118]]]]),\n",
       " tensor([9, 6, 3, 0, 8, 6, 7, 6, 4, 9, 8, 4, 4, 8, 7, 0, 0, 1, 8, 0, 8, 9, 1, 8,\n",
       "         9, 3, 2, 5, 2, 6, 9, 2])]"
      ]
     },
     "execution_count": 10,
     "metadata": {},
     "output_type": "execute_result"
    }
   ],
   "source": [
    "next(iter(trainloader)) \n",
    "\n"
   ]
  },
  {
   "cell_type": "code",
   "execution_count": 4,
   "metadata": {
    "colab": {
     "base_uri": "https://localhost:8080/",
     "height": 89
    },
    "colab_type": "code",
    "id": "1bcBf6rc1Trj",
    "outputId": "6b2df7f9-4786-45df-fa7e-53488927e24f"
   },
   "outputs": [
    {
     "data": {
      "text/plain": [
       "Dataset CIFAR10\n",
       "    Number of datapoints: 50000\n",
       "    Root location: ./data\n",
       "    Split: Train\n",
       "    StandardTransform\n",
       "Transform: Compose(\n",
       "               ToTensor()\n",
       "               Normalize(mean=(0.5, 0.5, 0.5), std=(0.5, 0.5, 0.5))\n",
       "           )"
      ]
     },
     "execution_count": 4,
     "metadata": {},
     "output_type": "execute_result"
    }
   ],
   "source": [
    "trainloader.dataset"
   ]
  },
  {
   "cell_type": "markdown",
   "metadata": {
    "colab_type": "text",
    "id": "-1I6IhwDH8yv"
   },
   "source": [
    "## Batch Normalization\n",
    "* 기존의 신경망 성능을 높이려는 시도들이 있어왔다. 대표적으로 input과 weight을 표준화시킨는 것.\n",
    "* 그러나 문제는 hidden layer가 학습을 진행하면서 input distribution이 불안정해지게 된다.이를 Internal Covariate Shift\n",
    "라고 한다. 예를 들자면 가족오락관에서 귀마개를 끼고서하는 게임에서 사람을 거칠 수록 이상한 정답이 나오는 이치와 비슷하다고 함. 두 번째 가중치 값이 있다면 이 가중치는 이전 가중치 W1와 입력값에 따라 분포가 달라진다. 즉 W2가 불안정해진다.\n",
    "\n",
    "1단계\n",
    "* hidden input -> Batch Normalization -> Activation Funciton 의 구조를 가지면 된다.\n",
    "* 보통 신경망은 mini batch로 학습하니 각 batch마다 표준화를 시킨다.\n",
    "* batch_size = m일 때 \n",
    "* $ {\\ μ_β} = {1 \\over m} * {\\sum_i}X_iW_i  $  (배치 평균)\n",
    "* $ {\\ σ_β} = {1 \\over m} * {\\sum_i}(X_iW_i - μ_β$)2 (배치 표준편차)\n",
    "* Activation $ a = f({\\ XW_i - μ_β \\over \\ σ_β})$\n",
    "\n",
    "2단계\n",
    "* 그러나 이 상태라면 grdient update에서 bias가 무시된다. sigmoid의 경우 활성화 결과값들이 sigmoid의 중간 선형부분에 위치하게 된다. 이런식으로 나쁜 Normalization을 고칠 감마와 베타라는 파라미터가 추가된다.\n",
    "* $ {\\ a} = γ*({\\ XW_i - μ_β \\over \\ σ_β}) + β $ (이 친구도 마치 또 다른 신경망 같다. 얘네도 학습이 된다는 것)\n",
    "* 이 값을 실제 신경망의 활성화 함수 입력으로 넣어주면 된다.\n",
    "\n",
    "Test단계\n",
    "* 평가 시에는 학습 때 썼던 Batch별 통계값의 평균을 사용하거나 move average를 사용한다.\n",
    "* $ \\hat{\\mu} \\gets \\alpha \\hat{\\mu} + (1-\\alpha) \\mu_{\\mathcal{B}}^{(i)}$ (알파는 momentum값으로 누구는 0.9를 사용하라고 하고, 파이토치에서는 default가 0.1이다.)\n",
    "* $ \\hat{\\sigma} \\gets \\alpha \\hat{\\sigma} + (1-\\alpha) \\sigma_{\\mathcal{B}}^{(i)}$\n",
    "\n",
    "\n",
    "장점\n",
    "\n",
    "\n",
    "1.   bias 무시 X\n",
    "2.   hidden input 표준화\n",
    "3.   vanishing gradient 방지(actiation값을 적당한 크기로 유지)\n",
    "4.   interval covariate shift 방지\n",
    "5.   Dropout 안해도 됨. 같은 효과를 내기 떄문이라고 함\n",
    "6.   Learning Rate 크게 해도 됨 -> 시간단축\n",
    "\n",
    "\n",
    "텐서플로나 파이토치에서 쉽게 신경망에 추가할 수 있는 클래스를 제공한다."
   ]
  },
  {
   "cell_type": "markdown",
   "metadata": {
    "colab_type": "text",
    "id": "y-FTxFQyWnTP"
   },
   "source": [
    "## 드롭아웃\n",
    "* 과적합을 막는 방법 중 하나\n",
    "* 뉴런의 연결을 임의로 삭제\n",
    "* 단, 테스트 시 모든 노드 사용함.\n",
    "* 일정 확률로 강력한 뉴런이 무시될 수도 있다. 강력한 뉴런은 학습 데이터에 확신을 가지고 있다는 뜻이고, 그러한 뉴런이 많으면 일반화 능력이 떨어질 수 있다. "
   ]
  },
  {
   "cell_type": "code",
   "execution_count": 10,
   "metadata": {
    "colab": {
     "base_uri": "https://localhost:8080/",
     "height": 107
    },
    "colab_type": "code",
    "id": "jXuOR62guRF9",
    "outputId": "68ba7faf-eb66-4d77-da29-11cea9c0710f"
   },
   "outputs": [
    {
     "name": "stdout",
     "output_type": "stream",
     "text": [
      "BNNet(\n",
      "  (linear1): Linear(in_features=3072, out_features=128, bias=True)\n",
      "  (bn1): BatchNorm1d(128, eps=1e-05, momentum=0.1, affine=True, track_running_stats=True)\n",
      "  (linear2): Linear(in_features=128, out_features=10, bias=True)\n",
      ")\n"
     ]
    }
   ],
   "source": [
    "class Net(nn.Module):\n",
    "    def __init__(self):\n",
    "        super(Net, self).__init__()\n",
    "        self.fc1 = nn.Linear(input_size, hidden_size) # input, output\n",
    "        self.fc2 = nn.Linear(hidden_size, output_size)\n",
    "    \n",
    "    def forward(self, x):\n",
    "        x = x.view(-1, self.num_flat_features(x))        \n",
    "        x = F.relu(self.fc1(x))\n",
    "        x = self.fc2(x)\n",
    "        return x\n",
    "    \n",
    "    def num_flat_features(self, x):\n",
    "        size = x.size()[1:]\n",
    "        num_features = 1\n",
    "        for s in size:\n",
    "            num_features *= s\n",
    "        return num_features\n",
    "\n",
    "\n",
    "# Dropout\n",
    "class DropoutNet(nn.Module):\n",
    "    def __init__(self):\n",
    "        super(DropoutNet, self).__init__()\n",
    "        self.fc1 = nn.Linear(input_size, hidden_size) # input, output\n",
    "        self.fc2 = nn.Linear(hidden_size, output_size)\n",
    "        self.dropout = nn.Dropout(p=0.5)\n",
    "\n",
    "    def forward(self, x):\n",
    "        x = x.view(-1, self.num_flat_features(x))\n",
    "        x = self.dropout(F.relu(self.fc1(x)))\n",
    "        x = self.fc2(x)\n",
    "        return x\n",
    "    \n",
    "    def num_flat_features(self, x):\n",
    "        size = x.size()[1:]\n",
    "        num_features = 1\n",
    "        for s in size:\n",
    "            num_features *= s\n",
    "        return num_features\n",
    "\n",
    "# Batch Normalization\n",
    "class BNNet(nn.Module):\n",
    "    def __init__(self):\n",
    "        super(BNNet, self).__init__()\n",
    "        self.linear1 = nn.Linear(input_size, hidden_size)\n",
    "        self.bn1 = nn.BatchNorm1d(hidden_size)\n",
    "        self.linear2 = nn.Linear(hidden_size, output_size)\n",
    "\n",
    "    def forward(self, x):\n",
    "        x = x.view(-1, self.num_flat_features(x))\n",
    "        x = F.relu(self.bn1(self.linear1(x)))\n",
    "        x = self.linear2(x)\n",
    "        return x\n",
    "    \n",
    "    def num_flat_features(self, x):\n",
    "        size = x.size()[1:]\n",
    "        num_features = 1\n",
    "        for s in size:\n",
    "            num_features *= s\n",
    "        return num_features\n",
    "\n",
    "# 골라서 해보자\n",
    "# net = Net().to(device)\n",
    "# net = DropoutNet().to(device)\n",
    "net = BNNet().to(device)\n",
    "print(net)"
   ]
  },
  {
   "cell_type": "code",
   "execution_count": null,
   "metadata": {
    "colab": {},
    "colab_type": "code",
    "id": "gTFHg8aUHDsi"
   },
   "outputs": [],
   "source": [
    "import torch.optim as optim\n",
    "criterion = nn.CrossEntropyLoss()\n",
    "optimizer = optim.Adam(net.parameters(), lr=learning_rate)"
   ]
  },
  {
   "cell_type": "code",
   "execution_count": 12,
   "metadata": {
    "colab": {
     "base_uri": "https://localhost:8080/",
     "height": 197
    },
    "colab_type": "code",
    "id": "QLBB_tp5gRwi",
    "outputId": "ba0f9aff-e7fc-496a-bd3c-0592b617933d"
   },
   "outputs": [
    {
     "name": "stderr",
     "output_type": "stream",
     "text": [
      "170500096it [00:30, 17794713.17it/s]                               "
     ]
    },
    {
     "name": "stdout",
     "output_type": "stream",
     "text": [
      "epoch: 0 loss: 52.648 acc: 42.880 \n",
      "epoch: 5 loss: 45.233 acc: 49.910 \n",
      "epoch: 10 loss: 42.936 acc: 52.260 \n",
      "epoch: 15 loss: 42.156 acc: 52.850 \n",
      "epoch: 20 loss: 42.242 acc: 52.810 \n",
      "epoch: 25 loss: 42.231 acc: 52.790 \n",
      "epoch: 30 loss: 42.373 acc: 52.680 \n",
      "epoch: 35 loss: 42.932 acc: 52.710 \n",
      "epoch: 40 loss: 44.468 acc: 52.530 \n",
      "epoch: 45 loss: 44.975 acc: 51.090 \n"
     ]
    }
   ],
   "source": [
    "performance = {'test_acc': [],'test_loss': []} \n",
    "\n",
    "for epoch in range(epoch_size):\n",
    "    net.train()\n",
    "    for i, (x, y) in enumerate(trainloader):\n",
    "        inputs, labels = x.to(device), y.to(device)\n",
    "        optimizer.zero_grad()\n",
    "        outputs = net(inputs)\n",
    "        loss = criterion(outputs, labels)\n",
    "        loss.backward()\n",
    "        optimizer.step()\n",
    "        \n",
    "    total_label = 0\n",
    "    correct = 0\n",
    "    test_loss = 0\n",
    "    net.eval()\n",
    "    with torch.no_grad():\n",
    "        for x, y in testloader:\n",
    "            images, labels = x.to(device), y.to(device)\n",
    "            outputs = net(images)\n",
    "            loss = criterion(outputs, labels)\n",
    "            test_loss += loss.item()\n",
    "            _, predicted = torch.max(outputs, 1)\n",
    "            correct += (predicted == labels).sum().item()\n",
    "            total_label += labels.size(0)\n",
    "\n",
    "        test_acc = 100*correct/total_label\n",
    "        test_loss = test_loss / len(testloader.batch_sampler)\n",
    "        performance[\"test_acc\"].append(test_acc)\n",
    "        performance[\"test_loss\"].append(test_loss)\n",
    "\n",
    "    if epoch % 5 == 0:\n",
    "        print(f\"Epoch: {epoch}, loss: {test_loss:.5f}, acc: {test_acc:.5f}\")"
   ]
  },
  {
   "cell_type": "code",
   "execution_count": null,
   "metadata": {
    "colab": {
     "base_uri": "https://localhost:8080/",
     "height": 283
    },
    "colab_type": "code",
    "id": "6_yJF3xfHHNx",
    "outputId": "63a96aef-23a9-41bb-f0f7-6489868a24be"
   },
   "outputs": [],
   "source": [
    "# 시각화\n",
    "# 갓대웅님의 시각화 코드 참조 했습니다.\n",
    "fig = plt.figure()\n",
    "ax_acc = fig.add_subplot()\n",
    "ax_acc.plot(range(epoch_size), performance['test_acc'], label='acc', color='darkred')\n",
    "ax_acc.grid(linestyle='--', color='lavender')\n",
    "plt.xlabel('epochs')\n",
    "plt.ylabel('Validation Accuracy(%)')\n",
    "\n",
    "ax_loss = ax_acc.twinx()\n",
    "ax_loss.plot(range(epoch_size), performance['test_loss'], label='loss', color='darkblue')\n",
    "ax_loss.grid(linestyle='--', color='lavender')\n",
    "plt.ylabel('Validation Error')\n",
    "ax_loss.yaxis.tick_right()\n",
    "plt.show()"
   ]
  },
  {
   "attachments": {
    "basic_128.png": {
     "image/png": "[encoded data removed]"
    },
    "bn_1.png": {
     "image/png": "[encoded data removed]"
    },
    "do_256.png": {
     "image/png": "[encoded data removed]"
    }
   },
   "cell_type": "markdown",
   "metadata": {},
   "source": [
    "* Basic NN\n",
    "* hidden_size = 128, LR = 0.0001\n",
    "\n",
    "* 빠르게 과적합하는 모습을 확인할 수 있었습니다.\n",
    "![basic_128.png](attachment:basic_128.png)\n",
    "\n",
    "* Dropout\n",
    "![do_256.png](attachment:do_256.png)\n",
    "\n",
    "* Batch Normalize\n",
    "![bn_1.png](attachment:bn_1.png)\n",
    "* 60까지 찍어주고 있습니다"
   ]
  }
 ],
 "metadata": {
  "accelerator": "GPU",
  "colab": {
   "collapsed_sections": [],
   "name": "torch_2layerNN.ipynb",
   "provenance": [],
   "version": "0.3.2"
  },
  "kernelspec": {
   "display_name": "Python 3",
   "language": "python",
   "name": "python3"
  },
  "language_info": {
   "codemirror_mode": {
    "name": "ipython",
    "version": 3
   },
   "file_extension": ".py",
   "mimetype": "text/x-python",
   "name": "python",
   "nbconvert_exporter": "python",
   "pygments_lexer": "ipython3",
   "version": "3.7.3"
  }
 },
 "nbformat": 4,
 "nbformat_minor": 4
}
