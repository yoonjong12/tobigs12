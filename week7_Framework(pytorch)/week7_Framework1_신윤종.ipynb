{
 "cells": [
  {
   "cell_type": "code",
   "execution_count": 1,
   "metadata": {
    "colab": {},
    "colab_type": "code",
    "id": "xlsu7WP7p4uG"
   },
   "outputs": [],
   "source": [
    "import time\n",
    "import numpy as np\n",
    "import pandas as pd\n",
    "from PIL import Image\n",
    "import matplotlib.pyplot as plt\n",
    "from sklearn.metrics import accuracy_score"
   ]
  },
  {
   "cell_type": "code",
   "execution_count": 2,
   "metadata": {
    "colab": {
     "base_uri": "https://localhost:8080/",
     "height": 55
    },
    "colab_type": "code",
    "id": "tbCGwpnbqIiu",
    "outputId": "ef49a029-1372-481a-dbf7-15d32f61fdf6"
   },
   "outputs": [
    {
     "ename": "ModuleNotFoundError",
     "evalue": "No module named 'google.colab'",
     "output_type": "error",
     "traceback": [
      "\u001b[1;31m---------------------------------------------------------------------------\u001b[0m",
      "\u001b[1;31mModuleNotFoundError\u001b[0m                       Traceback (most recent call last)",
      "\u001b[1;32m<ipython-input-2-d5df0069828e>\u001b[0m in \u001b[0;36m<module>\u001b[1;34m\u001b[0m\n\u001b[1;32m----> 1\u001b[1;33m \u001b[1;32mfrom\u001b[0m \u001b[0mgoogle\u001b[0m\u001b[1;33m.\u001b[0m\u001b[0mcolab\u001b[0m \u001b[1;32mimport\u001b[0m \u001b[0mdrive\u001b[0m\u001b[1;33m\u001b[0m\u001b[1;33m\u001b[0m\u001b[0m\n\u001b[0m\u001b[0;32m      2\u001b[0m \u001b[0mdrive\u001b[0m\u001b[1;33m.\u001b[0m\u001b[0mmount\u001b[0m\u001b[1;33m(\u001b[0m\u001b[1;34m'/content/drive'\u001b[0m\u001b[1;33m)\u001b[0m\u001b[1;33m\u001b[0m\u001b[1;33m\u001b[0m\u001b[0m\n",
      "\u001b[1;31mModuleNotFoundError\u001b[0m: No module named 'google.colab'"
     ]
    }
   ],
   "source": [
    "from google.colab import drive\n",
    "drive.mount('/content/drive')"
   ]
  },
  {
   "cell_type": "code",
   "execution_count": null,
   "metadata": {
    "colab": {
     "base_uri": "https://localhost:8080/",
     "height": 253
    },
    "colab_type": "code",
    "id": "i_BM61GAp9lg",
    "outputId": "b5be5224-4824-40e1-aa22-8180114c9a5b"
   },
   "outputs": [],
   "source": [
    "train_data = pd.read_csv('/content/drive/My Drive/data/fashionmnist/fashion-mnist_train.csv')\n",
    "test_data = pd.read_csv('/content/drive/My Drive/data/fashionmnist/fashion-mnist_test.csv')\n",
    "train_data.head()"
   ]
  },
  {
   "cell_type": "code",
   "execution_count": null,
   "metadata": {
    "colab": {
     "base_uri": "https://localhost:8080/",
     "height": 359
    },
    "colab_type": "code",
    "id": "K9kMgkzFqbZN",
    "outputId": "9ae10013-e3ac-4c64-abf3-db044844e37f"
   },
   "outputs": [],
   "source": [
    "# 이미지 데이터와 라벨 데이터 분리\n",
    "train_x = np.array(train_data.iloc[:,1:])\n",
    "train_y = np.array(train_data['label'])\n",
    "test_x = np.array(test_data.iloc[:,1:])\n",
    "test_y = np.array(test_data['label'])\n",
    "\n",
    "print(train_x.shape)\n",
    "print(train_y.shape)\n",
    "print(test_x.shape)\n",
    "print(test_y.shape)\n",
    "\n",
    "\n",
    "# 시각화 \n",
    "# 임의로 3번사진을 가져옵니다.\n",
    "image_array = np.array(train_x[3]).reshape(28,28)\n",
    "pic = Image.fromarray(image_array.astype('uint8'))\n",
    "plt.imshow(pic)"
   ]
  },
  {
   "cell_type": "code",
   "execution_count": null,
   "metadata": {},
   "outputs": [],
   "source": []
  },
  {
   "cell_type": "code",
   "execution_count": 6,
   "metadata": {
    "colab": {
     "base_uri": "https://localhost:8080/",
     "height": 35
    },
    "colab_type": "code",
    "id": "J-2MfadqqiLO",
    "outputId": "33940b78-4410-49eb-d131-6db50a6c3c4f"
   },
   "outputs": [
    {
     "name": "stdout",
     "output_type": "stream",
     "text": [
      "Using PyTorch version: 1.1.0  Device: cuda\n"
     ]
    }
   ],
   "source": [
    "from torch.utils.data import DataLoader\n",
    "import torch.nn.functional as F\n",
    "import torch\n",
    "from torch import nn\n",
    "\n",
    "if torch.cuda.is_available():\n",
    "    device = torch.device('cuda')\n",
    "else:\n",
    "    device = torch.device('cpu')\n",
    "    \n",
    "print('Using PyTorch version:', torch.__version__, ' Device:', device)"
   ]
  },
  {
   "cell_type": "code",
   "execution_count": 0,
   "metadata": {
    "colab": {},
    "colab_type": "code",
    "id": "wA6zyMjBqmSZ"
   },
   "outputs": [],
   "source": [
    "# 파라미터 선택\n",
    "random_seed = 0\n",
    "learning_rate = 0.0001\n",
    "num_epochs = 40\n",
    "batch_size = 32\n",
    "\n",
    "input_size = 784\n",
    "h1_size = 512\n",
    "h2_size = 512 \n",
    "output_size = 10"
   ]
  },
  {
   "cell_type": "code",
   "execution_count": 8,
   "metadata": {
    "colab": {
     "base_uri": "https://localhost:8080/",
     "height": 71
    },
    "colab_type": "code",
    "id": "5PKgOq5Vqnpi",
    "outputId": "7505f3fa-431d-4051-8939-0ee3beec2e7e"
   },
   "outputs": [
    {
     "name": "stdout",
     "output_type": "stream",
     "text": [
      "<class '__main__.FashionDataset'>\n",
      "60000\n"
     ]
    },
    {
     "data": {
      "text/plain": [
       "<torch.utils.data.dataloader.DataLoader at 0x7f06e78ef1d0>"
      ]
     },
     "execution_count": 8,
     "metadata": {
      "tags": []
     },
     "output_type": "execute_result"
    }
   ],
   "source": [
    "# 데이터셋을 클래스로 만들고 파이토치의 dataloader로 만들어주면 손쉽게 훈련에서 사용할 수 있습니다.\n",
    "# 함수들은 dataloader로 데이터를 끌고올 때 사용됩니다.\n",
    "class FashionDataset(torch.utils.data.Dataset):\n",
    "    def __init__(self, X, Y):\n",
    "        # import and initialize dataset\n",
    "        self.X = X\n",
    "        self.Y = Y\n",
    "\n",
    "    def __getitem__(self, idx):\n",
    "        return self.X[idx], self.Y[idx]\n",
    "\n",
    "    def __len__(self):\n",
    "        # returns length of data\n",
    "        return len(self.X)\n",
    "    \n",
    "dataset = FashionDataset(train_x, train_y)\n",
    "testset = FashionDataset(test_x, test_y)\n",
    "print(type(dataset))\n",
    "print(len(dataset))\n",
    "dataloader = torch.utils.data.DataLoader(dataset, batch_size = batch_size, shuffle = True)\n",
    "test_loader = torch.utils.data.DataLoader(testset, batch_size = batch_size, shuffle = True)\n",
    "\n",
    "dataloader"
   ]
  },
  {
   "cell_type": "code",
   "execution_count": 0,
   "metadata": {
    "colab": {},
    "colab_type": "code",
    "id": "dnuJDLEXqo9H"
   },
   "outputs": [],
   "source": [
    "# 다층 신경망 클래스 정의\n",
    "class MLP(nn.Module):\n",
    "    def __init__(self, input_size, output_size, h1_size, h2_size):\n",
    "        super(MLP, self).__init__()\n",
    "        # 파라미터 정의\n",
    "        self.input_size = input_size\n",
    "        self.output_size = output_size\n",
    "        self.h1_size = h1_size\n",
    "        self.h2_size = h2_size  \n",
    "        \n",
    "        # 신경망 정의\n",
    "        # Sequential로 한꺼번에 묶어서 처리 할 수 있습니다.\n",
    "        self.layers = nn.Sequential(\n",
    "            nn.Linear(self.input_size, self.h1_size, bias=True),\n",
    "            nn.ReLU(),\n",
    "            nn.Linear(self.h1_size, self.h2_size, bias=True),\n",
    "            nn.ReLU(),\n",
    "            nn.Linear(self.h2_size, self.output_size, bias=True)\n",
    "        )\n",
    "\n",
    "    def forward(self, x):\n",
    "        # 학습을 위해 텐서 shape을 바꿔줌\n",
    "        x = x.view(-1, 784)\n",
    "        x = self.layers(x.float())\n",
    "        return x\n",
    "\n"
   ]
  },
  {
   "cell_type": "code",
   "execution_count": 10,
   "metadata": {
    "colab": {
     "base_uri": "https://localhost:8080/",
     "height": 179
    },
    "colab_type": "code",
    "id": "XmBxCJy3qtkd",
    "outputId": "d39bac92-034b-429e-890b-2c121382f851"
   },
   "outputs": [
    {
     "name": "stdout",
     "output_type": "stream",
     "text": [
      "MLP(\n",
      "  (layers): Sequential(\n",
      "    (0): Linear(in_features=784, out_features=512, bias=True)\n",
      "    (1): ReLU()\n",
      "    (2): Linear(in_features=512, out_features=512, bias=True)\n",
      "    (3): ReLU()\n",
      "    (4): Linear(in_features=512, out_features=10, bias=True)\n",
      "  )\n",
      ")\n"
     ]
    }
   ],
   "source": [
    "my_mlp = MLP(input_size, output_size, h1_size, h2_size).to(device)\n",
    "print(my_mlp)"
   ]
  },
  {
   "cell_type": "code",
   "execution_count": 0,
   "metadata": {
    "colab": {},
    "colab_type": "code",
    "id": "uPAMLzgEq9Ux"
   },
   "outputs": [],
   "source": [
    "optimizer = torch.optim.Adam(my_mlp.parameters(), lr=0.0001)\n",
    "criterion = nn.CrossEntropyLoss()"
   ]
  },
  {
   "cell_type": "code",
   "execution_count": 68,
   "metadata": {
    "colab": {
     "base_uri": "https://localhost:8080/",
     "height": 199
    },
    "colab_type": "code",
    "id": "24aZ7vGTrE96",
    "outputId": "4d82c13e-3232-4dcc-d53d-e980e41009e3"
   },
   "outputs": [
    {
     "name": "stderr",
     "output_type": "stream",
     "text": [
      "/usr/local/lib/python3.6/dist-packages/ipykernel_launcher.py:74: UserWarning: Implicit dimension choice for softmax has been deprecated. Change the call to include dim=X as an argument.\n"
     ]
    },
    {
     "name": "stdout",
     "output_type": "stream",
     "text": [
      "Epoch: 0, Test Loss: 0.38060, Test Acc: 0.89603\n",
      "Epoch: 5, Test Loss: 0.39937, Test Acc: 0.89681\n",
      "Epoch: 10, Test Loss: 0.42827, Test Acc: 0.90248\n",
      "Epoch: 15, Test Loss: 0.52154, Test Acc: 0.89501\n",
      "Epoch: 20, Test Loss: 0.56811, Test Acc: 0.89816\n",
      "Epoch: 25, Test Loss: 0.54166, Test Acc: 0.89776\n",
      "Epoch: 30, Test Loss: 0.63486, Test Acc: 0.88847\n",
      "Epoch: 35, Test Loss: 0.69097, Test Acc: 0.90023\n"
     ]
    }
   ],
   "source": [
    "# 성능 측정 데이터를 쌓을 dictionary\n",
    "performance = {'test_acc': [],'test_loss': []} \n",
    "\n",
    "for epoch in range(num_epochs):\n",
    "    # train\n",
    "    my_mlp.train()\n",
    "    # iter, image, label 반복문\n",
    "    for i, (x, y) in enumerate(dataloader):\n",
    "        # 모델에 데이터를 흘려 넣어줍니다.\n",
    "        x, y = x.to(device), y.to(device) \n",
    "        outputs = my_mlp(x)\n",
    "        loss = criterion(outputs, y)\n",
    "        # optimizer의 변화도 버퍼(gradient buffer)를 0으로 설정하고, 무작위 값으로 역전파를 합니다.\n",
    "        optimizer.zero_grad()\n",
    "        loss.backward()\n",
    "        # 가중치 업데이트 \n",
    "        optimizer.step()\n",
    "\n",
    "    # eval\n",
    "    y_pred, y_true = [], []\n",
    "    test_acc = 0\n",
    "    test_loss = 0\n",
    "    my_mlp.eval()\n",
    "    with torch.no_grad():\n",
    "        for x, y in test_loader:\n",
    "            x, y = x.to(device), y.to(device)\n",
    "            # Loss\n",
    "            outputs = my_mlp(x)   # 예측 label \n",
    "            loss = criterion(outputs, y)\n",
    "            test_loss += loss.item()\n",
    "            # Accuracy\n",
    "            y_true += list(y.cpu())   # 정답 label\n",
    "            y_pred += list(np.argmax(F.softmax(outputs).cpu(), axis=1)) # 소프트맥스 확률값에서 argmax로 제일 높은 인덱스를 뽑자\n",
    "            # sklearn의 정확도 측정 모듈 accuracy_score\n",
    "            acc = accuracy_score(y_true, y_pred)\n",
    "            test_acc += acc\n",
    "\n",
    "        # 누적된 통계치들에 batch를 반복한 횟수로 나누자\n",
    "        # 반복 횟수 = batch size 32로 잡았으면 testset size가 1만이니까 10k / 32 해서 313\n",
    "        test_acc = test_acc / len(test_loader.batch_sampler)\n",
    "        test_loss = test_loss / len(test_loader.batch_sampler)\n",
    "\n",
    "        performance[\"test_acc\"].append(test_acc)\n",
    "        performance[\"test_loss\"].append(test_loss)\n",
    "\n",
    "        # 성능 출력\n",
    "        if epoch % 5 == 0:\n",
    "            print(f\"Epoch: {epoch}, Test Loss: {test_loss:.5f}, Test Acc: {test_acc:.5f}\")"
   ]
  },
  {
   "cell_type": "markdown",
   "metadata": {
    "colab_type": "text",
    "id": "YvpcDhhAlW9Y"
   },
   "source": [
    "### 참고자료\n",
    "* https://medium.com/biaslyai/pytorch-introduction-to-neural-network-feedforward-neural-network-model-e7231cff47cb\n",
    "* https://www.kaggle.com/pinocookie/pytorch-simple-mlp\n",
    "* https://tutorials.pytorch.kr/beginner/pytorch_with_examples.html"
   ]
  }
 ],
 "metadata": {
  "accelerator": "GPU",
  "colab": {
   "collapsed_sections": [],
   "name": "week7_Framework1_신윤종.ipynb",
   "provenance": [],
   "version": "0.3.2"
  },
  "kernelspec": {
   "display_name": "Python 3",
   "language": "python",
   "name": "python3"
  },
  "language_info": {
   "codemirror_mode": {
    "name": "ipython",
    "version": 3
   },
   "file_extension": ".py",
   "mimetype": "text/x-python",
   "name": "python",
   "nbconvert_exporter": "python",
   "pygments_lexer": "ipython3",
   "version": "3.7.3"
  }
 },
 "nbformat": 4,
 "nbformat_minor": 1
}
