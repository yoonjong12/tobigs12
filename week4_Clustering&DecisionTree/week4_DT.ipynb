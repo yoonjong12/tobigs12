{
 "cells": [
  {
   "cell_type": "markdown",
   "metadata": {},
   "source": [
    "# DecisionTree 과제\n",
    "\n",
    "#### 개요\n",
    "\n",
    "과제 1번\\\n",
    "본인이 구현한 함수를 통해 다음 문제를 풀어주세요!\n",
    "\n",
    "1) 변수 ‘income’의 이진분류 결과를 보여주세요.\\\n",
    "2) 분류를 하는 데 가장 중요한 변수를 선정하고, 해당 변수의 Gini index를 제시해주세요.\\\n",
    "3) 문제 2에서 제시한 feature로 DataFrame을 split한 후, 나눠진 2개의 DataFrame에서 각각 다음으로 중요한 변수를 선정하고 해당 변수의 Gini index를 제시해주세요\n",
    "\n",
    "과제 2번\\\n",
    "ID3 알고리즘을 통해 최초 split feature가 무엇인지 도출하는 과정을 계산해주세요!\n",
    "\n",
    "#### 데이터 출처\n",
    "https://raw.githubusercontent.com/AugustLONG/ML01/master/01decisiontree/AllElectronics.csv"
   ]
  },
  {
   "cell_type": "markdown",
   "metadata": {},
   "source": [
    "# Data Loading"
   ]
  },
  {
   "cell_type": "code",
   "execution_count": 1,
   "metadata": {},
   "outputs": [],
   "source": [
    "import pandas as pd \n",
    "import numpy as np\n",
    "import math"
   ]
  },
  {
   "cell_type": "code",
   "execution_count": 2,
   "metadata": {},
   "outputs": [
    {
     "data": {
      "text/html": [
       "<div>\n",
       "<style scoped>\n",
       "    .dataframe tbody tr th:only-of-type {\n",
       "        vertical-align: middle;\n",
       "    }\n",
       "\n",
       "    .dataframe tbody tr th {\n",
       "        vertical-align: top;\n",
       "    }\n",
       "\n",
       "    .dataframe thead th {\n",
       "        text-align: right;\n",
       "    }\n",
       "</style>\n",
       "<table border=\"1\" class=\"dataframe\">\n",
       "  <thead>\n",
       "    <tr style=\"text-align: right;\">\n",
       "      <th></th>\n",
       "      <th>age</th>\n",
       "      <th>income</th>\n",
       "      <th>student</th>\n",
       "      <th>credit_rating</th>\n",
       "      <th>class_buys_computer</th>\n",
       "    </tr>\n",
       "  </thead>\n",
       "  <tbody>\n",
       "    <tr>\n",
       "      <th>0</th>\n",
       "      <td>youth</td>\n",
       "      <td>high</td>\n",
       "      <td>no</td>\n",
       "      <td>fair</td>\n",
       "      <td>no</td>\n",
       "    </tr>\n",
       "    <tr>\n",
       "      <th>1</th>\n",
       "      <td>youth</td>\n",
       "      <td>high</td>\n",
       "      <td>no</td>\n",
       "      <td>excellent</td>\n",
       "      <td>no</td>\n",
       "    </tr>\n",
       "    <tr>\n",
       "      <th>2</th>\n",
       "      <td>middle_aged</td>\n",
       "      <td>high</td>\n",
       "      <td>no</td>\n",
       "      <td>fair</td>\n",
       "      <td>yes</td>\n",
       "    </tr>\n",
       "    <tr>\n",
       "      <th>3</th>\n",
       "      <td>senior</td>\n",
       "      <td>medium</td>\n",
       "      <td>no</td>\n",
       "      <td>fair</td>\n",
       "      <td>yes</td>\n",
       "    </tr>\n",
       "    <tr>\n",
       "      <th>4</th>\n",
       "      <td>senior</td>\n",
       "      <td>low</td>\n",
       "      <td>yes</td>\n",
       "      <td>fair</td>\n",
       "      <td>yes</td>\n",
       "    </tr>\n",
       "    <tr>\n",
       "      <th>5</th>\n",
       "      <td>senior</td>\n",
       "      <td>low</td>\n",
       "      <td>yes</td>\n",
       "      <td>excellent</td>\n",
       "      <td>no</td>\n",
       "    </tr>\n",
       "    <tr>\n",
       "      <th>6</th>\n",
       "      <td>middle_aged</td>\n",
       "      <td>low</td>\n",
       "      <td>yes</td>\n",
       "      <td>excellent</td>\n",
       "      <td>yes</td>\n",
       "    </tr>\n",
       "    <tr>\n",
       "      <th>7</th>\n",
       "      <td>youth</td>\n",
       "      <td>medium</td>\n",
       "      <td>no</td>\n",
       "      <td>fair</td>\n",
       "      <td>no</td>\n",
       "    </tr>\n",
       "    <tr>\n",
       "      <th>8</th>\n",
       "      <td>youth</td>\n",
       "      <td>low</td>\n",
       "      <td>yes</td>\n",
       "      <td>fair</td>\n",
       "      <td>yes</td>\n",
       "    </tr>\n",
       "    <tr>\n",
       "      <th>9</th>\n",
       "      <td>senior</td>\n",
       "      <td>medium</td>\n",
       "      <td>yes</td>\n",
       "      <td>fair</td>\n",
       "      <td>yes</td>\n",
       "    </tr>\n",
       "    <tr>\n",
       "      <th>10</th>\n",
       "      <td>youth</td>\n",
       "      <td>medium</td>\n",
       "      <td>yes</td>\n",
       "      <td>excellent</td>\n",
       "      <td>yes</td>\n",
       "    </tr>\n",
       "    <tr>\n",
       "      <th>11</th>\n",
       "      <td>middle_aged</td>\n",
       "      <td>medium</td>\n",
       "      <td>no</td>\n",
       "      <td>excellent</td>\n",
       "      <td>yes</td>\n",
       "    </tr>\n",
       "    <tr>\n",
       "      <th>12</th>\n",
       "      <td>middle_aged</td>\n",
       "      <td>high</td>\n",
       "      <td>yes</td>\n",
       "      <td>fair</td>\n",
       "      <td>yes</td>\n",
       "    </tr>\n",
       "    <tr>\n",
       "      <th>13</th>\n",
       "      <td>senior</td>\n",
       "      <td>medium</td>\n",
       "      <td>no</td>\n",
       "      <td>excellent</td>\n",
       "      <td>no</td>\n",
       "    </tr>\n",
       "  </tbody>\n",
       "</table>\n",
       "</div>"
      ],
      "text/plain": [
       "            age  income student credit_rating class_buys_computer\n",
       "0         youth    high      no          fair                  no\n",
       "1         youth    high      no     excellent                  no\n",
       "2   middle_aged    high      no          fair                 yes\n",
       "3        senior  medium      no          fair                 yes\n",
       "4        senior     low     yes          fair                 yes\n",
       "5        senior     low     yes     excellent                  no\n",
       "6   middle_aged     low     yes     excellent                 yes\n",
       "7         youth  medium      no          fair                  no\n",
       "8         youth     low     yes          fair                 yes\n",
       "9        senior  medium     yes          fair                 yes\n",
       "10        youth  medium     yes     excellent                 yes\n",
       "11  middle_aged  medium      no     excellent                 yes\n",
       "12  middle_aged    high     yes          fair                 yes\n",
       "13       senior  medium      no     excellent                  no"
      ]
     },
     "execution_count": 2,
     "metadata": {},
     "output_type": "execute_result"
    }
   ],
   "source": [
    "pd_data = pd.read_csv('https://raw.githubusercontent.com/AugustLONG/ML01/master/01decisiontree/AllElectronics.csv')\n",
    "pd_data.drop(\"RID\",axis=1, inplace = True) #RID는 그냥 순서라서 삭제\n",
    "pd_data"
   ]
  },
  {
   "cell_type": "markdown",
   "metadata": {},
   "source": [
    "# 1. Gini 계수를 구하는 함수 만들기"
   ]
  },
  {
   "cell_type": "code",
   "execution_count": 3,
   "metadata": {},
   "outputs": [],
   "source": [
    "def get_gini(df, label):\n",
    "    # label열 안에서 unique값들과 이들의 개수를 구합니다\n",
    "    unique_counts = df[label].value_counts()\n",
    "    # unique의 행 개수 = label 클래스 개수 \n",
    "    gini = 1\n",
    "    # Pj 구하기\n",
    "    length = len(df)\n",
    "    for i in unique_counts:\n",
    "        # P(yes) = yes의 count / df의 길이\n",
    "        p = i/length\n",
    "        # 1로 초기화한 gini에 계속 클래스 개수만큼 Pj를 구해서 빼주었습니다\n",
    "        gini -= pow(p,2)\n",
    "    return gini    "
   ]
  },
  {
   "cell_type": "code",
   "execution_count": 4,
   "metadata": {},
   "outputs": [
    {
     "data": {
      "text/plain": [
       "0.4591836734693877"
      ]
     },
     "execution_count": 4,
     "metadata": {},
     "output_type": "execute_result"
    }
   ],
   "source": [
    "get_gini(pd_data,'class_buys_computer')"
   ]
  },
  {
   "cell_type": "markdown",
   "metadata": {},
   "source": [
    "# 2. Feature의 Class를 이진 분류로 만들기"
   ]
  },
  {
   "cell_type": "code",
   "execution_count": 5,
   "metadata": {},
   "outputs": [
    {
     "data": {
      "text/plain": [
       "[['youth'],\n",
       " ['youth', 'middle_aged'],\n",
       " ['youth', 'senior'],\n",
       " ['middle_aged'],\n",
       " ['middle_aged', 'senior'],\n",
       " ['senior']]"
      ]
     },
     "execution_count": 5,
     "metadata": {},
     "output_type": "execute_result"
    }
   ],
   "source": [
    "def get_binary_split(df, attribute):\n",
    "    def get_combination(li1, li2, result):\n",
    "        # li1은 조합을 구할 때 사용하는 리스트, li2는 조합을 구할 리스트, li는 결과를 담을 리스트 \n",
    "        for i in range(len(li2)):\n",
    "            # 1) li1 복사 후 i 대로 li2에서 하나씩 추가하고 result에 담음\n",
    "            # 3) 재귀로 다시 불러졌을 때 그대로 new_li1을 복사 \n",
    "            new_li1 = li1[:]\n",
    "            new_li1.append(li2[i])\n",
    "            result.append(new_li1)\n",
    "            # 2) li2의 범위는 하나씩 좁아짐\n",
    "            new_li2 = li2[i+1:]\n",
    "#             print(new_li1, new_li2)\n",
    "            # 재귀로 계속 돌림\n",
    "            get_combination(new_li1, new_li2, result)\n",
    "    \n",
    "    # 함수에 필요한 리스트들\n",
    "    result = []\n",
    "    li = []\n",
    "    # 특정 attribute의 유니크 값들 \n",
    "    unique = list(df[attribute].unique())\n",
    "    # 조합 구하는 함수\n",
    "    get_combination(li, unique, result)\n",
    "    # 유니크 리스트 자체인 자기 자신값은 필요없음 \n",
    "    result.remove(unique)\n",
    "    \n",
    "    return result\n",
    "\n",
    "get_binary_split(pd_data,\"age\")"
   ]
  },
  {
   "cell_type": "markdown",
   "metadata": {},
   "source": [
    "# 3. 다음은 모든 이진분류의 경우의 Gini index를 구하는 함수 만들기"
   ]
  },
  {
   "cell_type": "code",
   "execution_count": 6,
   "metadata": {},
   "outputs": [],
   "source": [
    "def get_attribute_gini_index(df, attribute, label): \n",
    "    # 결과가 담길 dictionary\n",
    "    dictionary = {}\n",
    "    \n",
    "    # 조합들을 반복문으로 각각의 지니값을 구함\n",
    "    for classes in get_binary_split(df,attribute):\n",
    "        # 첫 번째 Dataframe, 그냥 classes 그 자체인 데이터\n",
    "        df1 = pd.DataFrame(columns=df.columns)\n",
    "        # split한 클래스끼리 묶음\n",
    "        for class_ in classes:\n",
    "            # class_ 조건에 따라 df에서 끌어옴\n",
    "            temp = df.loc[df[attribute] == class_]\n",
    "            # DataFrame으로 만들기\n",
    "            temp_df = pd.DataFrame(temp, columns=df.columns)\n",
    "            # df1에 concat\n",
    "            df1 = pd.concat([df1,temp_df])\n",
    "        # 반복문이 끝나면 클래스의 조합에 따라 concat된 df1 완성\n",
    "        \n",
    "        # 대응되는 두 번째 Dataframe ex) df1 = youth, df2  = mid, senior\n",
    "        # 전체 데이터인 pd_data에서 df1를 뺀 나머지를 df2로 만들려고 해요\n",
    "        # df1 index값들을 뽑아오고\n",
    "        df_index = df1.index.values\n",
    "        # boolean 값으로 만들고 \n",
    "        bool_li = df.index.isin(df_index) # df와 원래 pd_data 비교\n",
    "        # 전체 데이터에서 df1이 아닌 데이터만 골라 냄\n",
    "        df2 = df[~bool_li]\n",
    "\n",
    "        # 각각의 df의 지니값 구하기\n",
    "        gini1 = (len(df1) / len(df)) * get_gini(df1,label)\n",
    "        gini2 = (len(df2) / len(df)) * get_gini(df2,label)\n",
    "        # 최종 df\n",
    "        gini = gini1 + gini2\n",
    "        # 딕셔너리에 정리하기\n",
    "        key = '_'.join(classes)\n",
    "        dictionary[key] = gini\n",
    "        \n",
    "    return dictionary"
   ]
  },
  {
   "cell_type": "code",
   "execution_count": 7,
   "metadata": {},
   "outputs": [
    {
     "data": {
      "text/plain": [
       "{'youth': 0.3936507936507937,\n",
       " 'youth_middle_aged': 0.4571428571428572,\n",
       " 'youth_senior': 0.35714285714285715,\n",
       " 'middle_aged': 0.35714285714285715,\n",
       " 'middle_aged_senior': 0.3936507936507937,\n",
       " 'senior': 0.4571428571428572}"
      ]
     },
     "execution_count": 7,
     "metadata": {},
     "output_type": "execute_result"
    }
   ],
   "source": [
    "get_attribute_gini_index(pd_data, \"age\", \"class_buys_computer\")"
   ]
  },
  {
   "cell_type": "code",
   "execution_count": 8,
   "metadata": {},
   "outputs": [
    {
     "data": {
      "text/plain": [
       "('middle_aged', 0.35714285714285715)"
      ]
     },
     "execution_count": 8,
     "metadata": {},
     "output_type": "execute_result"
    }
   ],
   "source": [
    "min(get_attribute_gini_index(pd_data, \"age\", \"class_buys_computer\").items())"
   ]
  },
  {
   "cell_type": "markdown",
   "metadata": {},
   "source": [
    "## 과제 2"
   ]
  },
  {
   "cell_type": "code",
   "execution_count": 9,
   "metadata": {},
   "outputs": [
    {
     "name": "stdout",
     "output_type": "stream",
     "text": [
      "14\n"
     ]
    },
    {
     "data": {
      "text/html": [
       "<div>\n",
       "<style scoped>\n",
       "    .dataframe tbody tr th:only-of-type {\n",
       "        vertical-align: middle;\n",
       "    }\n",
       "\n",
       "    .dataframe tbody tr th {\n",
       "        vertical-align: top;\n",
       "    }\n",
       "\n",
       "    .dataframe thead th {\n",
       "        text-align: right;\n",
       "    }\n",
       "</style>\n",
       "<table border=\"1\" class=\"dataframe\">\n",
       "  <thead>\n",
       "    <tr style=\"text-align: right;\">\n",
       "      <th></th>\n",
       "      <th>age</th>\n",
       "      <th>income</th>\n",
       "      <th>student</th>\n",
       "      <th>credit_rating</th>\n",
       "      <th>class_buys_computer</th>\n",
       "    </tr>\n",
       "  </thead>\n",
       "  <tbody>\n",
       "    <tr>\n",
       "      <th>0</th>\n",
       "      <td>youth</td>\n",
       "      <td>high</td>\n",
       "      <td>no</td>\n",
       "      <td>fair</td>\n",
       "      <td>no</td>\n",
       "    </tr>\n",
       "    <tr>\n",
       "      <th>1</th>\n",
       "      <td>youth</td>\n",
       "      <td>high</td>\n",
       "      <td>no</td>\n",
       "      <td>excellent</td>\n",
       "      <td>no</td>\n",
       "    </tr>\n",
       "    <tr>\n",
       "      <th>2</th>\n",
       "      <td>middle_aged</td>\n",
       "      <td>high</td>\n",
       "      <td>no</td>\n",
       "      <td>fair</td>\n",
       "      <td>yes</td>\n",
       "    </tr>\n",
       "    <tr>\n",
       "      <th>3</th>\n",
       "      <td>senior</td>\n",
       "      <td>medium</td>\n",
       "      <td>no</td>\n",
       "      <td>fair</td>\n",
       "      <td>yes</td>\n",
       "    </tr>\n",
       "    <tr>\n",
       "      <th>4</th>\n",
       "      <td>senior</td>\n",
       "      <td>low</td>\n",
       "      <td>yes</td>\n",
       "      <td>fair</td>\n",
       "      <td>yes</td>\n",
       "    </tr>\n",
       "  </tbody>\n",
       "</table>\n",
       "</div>"
      ],
      "text/plain": [
       "           age  income student credit_rating class_buys_computer\n",
       "0        youth    high      no          fair                  no\n",
       "1        youth    high      no     excellent                  no\n",
       "2  middle_aged    high      no          fair                 yes\n",
       "3       senior  medium      no          fair                 yes\n",
       "4       senior     low     yes          fair                 yes"
      ]
     },
     "execution_count": 9,
     "metadata": {},
     "output_type": "execute_result"
    }
   ],
   "source": [
    "print(len(pd_data))\n",
    "pd_data.head()"
   ]
  },
  {
   "cell_type": "code",
   "execution_count": 10,
   "metadata": {},
   "outputs": [
    {
     "data": {
      "text/plain": [
       "medium    6\n",
       "high      4\n",
       "low       4\n",
       "Name: income, dtype: int64"
      ]
     },
     "execution_count": 10,
     "metadata": {},
     "output_type": "execute_result"
    }
   ],
   "source": [
    "p = pd_data['income'].value_counts()\n",
    "p"
   ]
  },
  {
   "cell_type": "code",
   "execution_count": 11,
   "metadata": {},
   "outputs": [
    {
     "data": {
      "text/plain": [
       "0.9402859586706311"
      ]
     },
     "execution_count": 11,
     "metadata": {},
     "output_type": "execute_result"
    }
   ],
   "source": [
    "#Info(D) \n",
    "def getInfoD(df, label):\n",
    "    p = df[label].value_counts()\n",
    "    classes = df[label].unique()\n",
    "    score = 0\n",
    "    for i in classes:\n",
    "        score += entropy(p.loc[i] / float(len(df)))\n",
    "    return score\n",
    "def entropy(p):\n",
    "     return -p*math.log2(p)\n",
    "\n",
    "getInfoD(pd_data,'class_buys_computer')"
   ]
  },
  {
   "cell_type": "code",
   "execution_count": 12,
   "metadata": {},
   "outputs": [
    {
     "name": "stdout",
     "output_type": "stream",
     "text": [
      "('student', 0.15183550136234159)\n"
     ]
    }
   ],
   "source": [
    "# InfoA(Di)\n",
    "# high=1 , medium=2 , low=3\n",
    "# income과 buy 조건 비교\n",
    "'''\n",
    "income = df['income'].unique()\n",
    "buy = df['class_buys_computer'].unique()\n",
    "income_p = df['income'].value_counts()\n",
    "for i in income:\n",
    "    for j in buy:\n",
    "        if i in dic:\n",
    "            dic[i] += entropy(check(i,j,pd_data) / income_p.loc[i])\n",
    "        else:\n",
    "            dic[i] = entropy(check(i,j,pd_data) / income_p.loc[i])\n",
    "        \n",
    "print(dic)\n",
    "        \n",
    "label1 = income_p['high'] / len(df) * dic['high']\n",
    "label2 = income_p['medium'] / len(df) * dic['medium']\n",
    "label3 = income_p['low'] / len(df) * dic['low']\n",
    "\n",
    "info_income = label1 + label2 + label3\n",
    "print('info_income: ',info_income)\n",
    "\n",
    "gain_income = info_D - info_income\n",
    "print('gain: ',gain_income)\n",
    "'''\n",
    "\n",
    "\n",
    "# 함수로 만든 것들\n",
    "def getInfoA(df, attribute, label):\n",
    "    att = df[attribute].unique()\n",
    "    lab = df[label].unique()\n",
    "    att_p = df[attribute].value_counts()\n",
    "    \n",
    "    dic = {}\n",
    "    for i in att:\n",
    "        for j in lab:\n",
    "            if i in dic:\n",
    "                dic[i] += entropy(checkP(attribute, i, label, j, df) / float(att_p.loc[i]))\n",
    "            else:\n",
    "                dic[i] = entropy(checkP(attribute, i, label, j, df) / float(att_p.loc[i]))\n",
    "                \n",
    "    score = 0\n",
    "    for i in att:\n",
    "        score += att_p[i] / len(df) * dic[i]\n",
    "    return score\n",
    "\n",
    "def checkP(attribute, att_val, label, label_val, df):\n",
    "    df_ = df.loc[(df[attribute] == att_val) & (df[label] == label_val)]\n",
    "    return len(df_)\n",
    "\n",
    "##문제2 답안\n",
    "def getBestGain(df, att_li, label):\n",
    "    info_D = getInfoD(df,label)\n",
    "    dic = {}\n",
    "    for i in att_li:\n",
    "        info_A = getInfoA(df, i, label)\n",
    "        dic[i] = info_D - info_A \n",
    "    score = max(dic.items())\n",
    "    return score\n",
    "        \n",
    "att_li = list(pd_data.columns.values)\n",
    "att_li.pop()\n",
    "# age에서 log2할때 0을 넣어주게 되어서 오류가 걸립니다. 아직 해결 못했어요....\n",
    "att_li.pop(0)\n",
    "print(getBestGain(pd_data, att_li, 'class_buys_computer'))"
   ]
  },
  {
   "cell_type": "markdown",
   "metadata": {},
   "source": [
    "* ID3 알고리즘으로 student가 최초 split feature로 선정되었습니다."
   ]
  }
 ],
 "metadata": {
  "kernelspec": {
   "display_name": "Python 3",
   "language": "python",
   "name": "python3"
  },
  "language_info": {
   "codemirror_mode": {
    "name": "ipython",
    "version": 3
   },
   "file_extension": ".py",
   "mimetype": "text/x-python",
   "name": "python",
   "nbconvert_exporter": "python",
   "pygments_lexer": "ipython3",
   "version": "3.7.3"
  }
 },
 "nbformat": 4,
 "nbformat_minor": 2
}
